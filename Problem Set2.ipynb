{
 "cells": [
  {
   "cell_type": "markdown",
   "id": "ee52015d",
   "metadata": {},
   "source": [
    "Question 1\n",
    "What value is displayed when the last expression (a) is evaluated? Explain your answer by indicating what happens in every executed statement."
   ]
  },
  {
   "cell_type": "code",
   "execution_count": 88,
   "id": "52170be4",
   "metadata": {},
   "outputs": [],
   "source": [
    "a=0\n",
    "def b(): \n",
    "    global a\n",
    "    a = c(a)\n",
    "    \n",
    "def c(a):\n",
    "    return a + 2"
   ]
  },
  {
   "cell_type": "code",
   "execution_count": 89,
   "id": "666e2be8",
   "metadata": {},
   "outputs": [
    {
     "data": {
      "text/plain": [
       "6"
      ]
     },
     "execution_count": 89,
     "metadata": {},
     "output_type": "execute_result"
    }
   ],
   "source": [
    "b()\n",
    "b()\n",
    "b()\n",
    "a\n",
    "    "
   ]
  },
  {
   "cell_type": "markdown",
   "id": "d0101fd0",
   "metadata": {},
   "source": [
    "Explanation:\n",
    "The result displayed after the last evaluation of expression a will be 6.\n",
    "\n",
    "Definition of the statements that were executed:\n",
    "\n",
    "1) The initial call to b() is made.\n",
    "To specify that the variable being referenced to is the global variable a declared in the module, the global keyword is used within b().\n",
    "The c(a) function is used, which takes the value of an as of the call, which is 0 and returns the value of an after being multiplied by 2, which is 2.\n",
    "The returned value of c(a) is then changed to the global variable a, making an equal to 2.\n",
    "\n",
    "2) The second call to b() is made.\n",
    "Once more, the c(a) function is used, taking the value of an as it stands (which is 2) and adding 2 to it to get 4, which is the outcome.\n",
    "The value returned by c(a) is changed to the global variable a, making an equal to 4.\n",
    "\n",
    "3) The third call to b() is made.\n",
    "The c(a) function is once again used, taking the current value of a (which is 4) and returning the outcome of adding 2 to it, which is 6. This time, the result is 6.\n",
    "The value returned by c(a) is changed to the global variable a, making an equal to 6.\n",
    "\n",
    "4) A is then examined. The global variable a currently has a value of 6, as a result of b() being called three times and updating a. As a result, when an is calculated, the value shown is 6.\n",
    "\n",
    "\n"
   ]
  },
  {
   "cell_type": "markdown",
   "id": "2a15b46d",
   "metadata": {},
   "source": [
    "Question 2\n",
    "Function fileLength(), given to you, takes the name of a file as input and returns the length of the file:\n"
   ]
  },
  {
   "cell_type": "code",
   "execution_count": 90,
   "id": "c9d60bca",
   "metadata": {},
   "outputs": [],
   "source": [
    "def fileLength(filename):\n",
    "    try:                                      # Try to open the file\n",
    "        infile = open(filename)   \n",
    "        contents = infile.read()              #Read the contents of the file\n",
    "        infile.close()                        # Close the file\n",
    "        return len(contents)                  # Return the length of the file\n",
    "    except FileNotFoundError:                 # If the file is not found, catch the FileNotFoundError\n",
    "        print(f\"File {filename} not found.\")  # Print a friendly error message\n"
   ]
  },
  {
   "cell_type": "code",
   "execution_count": 91,
   "id": "2530e6d0",
   "metadata": {},
   "outputs": [
    {
     "data": {
      "text/plain": [
       "123"
      ]
     },
     "execution_count": 91,
     "metadata": {},
     "output_type": "execute_result"
    }
   ],
   "source": [
    "fileLength('filelength.txt')"
   ]
  },
  {
   "cell_type": "code",
   "execution_count": 92,
   "id": "0d08814f",
   "metadata": {},
   "outputs": [
    {
     "name": "stdout",
     "output_type": "stream",
     "text": [
      "File filength97.txt not found.\n"
     ]
    }
   ],
   "source": [
    "fileLength('filength97.txt')"
   ]
  },
  {
   "cell_type": "markdown",
   "id": "8b31fa1f",
   "metadata": {},
   "source": [
    "Question 3\n",
    "Write a class named Marsupial that can be used as shown below:\n"
   ]
  },
  {
   "cell_type": "code",
   "execution_count": 93,
   "id": "41345349",
   "metadata": {},
   "outputs": [
    {
     "name": "stdout",
     "output_type": "stream",
     "text": [
      "['doll', 'firetruck', 'kitten']\n",
      "I am a Kangaroo located at coordinates (0,0)\n",
      "['doll', 'firetruck', 'kitten']\n",
      "I am a Kangaroo located at coordinates (3,0)\n"
     ]
    }
   ],
   "source": [
    "class Marsupial:\n",
    "    def __init__(self):\n",
    "        self.pouch = []                           # Initialize an empty pouch list\n",
    "        \n",
    "    def put_in_pouch(self, item):                 \n",
    "        self.pouch.append(item)                   # Add item to the pouch list\n",
    "        \n",
    "    def pouch_contents(self):\n",
    "        return self.pouch                         # Return the contents of the pouch list\n",
    "\n",
    "\n",
    "class Kangaroo(Marsupial):\n",
    "    def __init__(self, x, y):\n",
    "        super().__init__()                        # Call the constructor of the base class (Marsupial)\n",
    "        self.x = x                                # Initialize the x-coordinate of the kangaro\n",
    "        self.y = y                                # Initialize the y-coordinate of the kangaroo\n",
    "        \n",
    "    def jump(self, dx, dy):\n",
    "        self.x += dx                               # Move the kangaroo along the x-axis by dx units\n",
    "        self.y += dy                               # Move the kangaroo along the y-axis by dy units\n",
    "        \n",
    "    def __str__(self):\n",
    "        return f\"I am a Kangaroo located at coordinates ({self.x},{self.y})\"\n",
    "\n",
    "\n",
    "# Test the classes\n",
    "m = Marsupial()\n",
    "m.put_in_pouch('doll')\n",
    "m.put_in_pouch('firetruck')\n",
    "m.put_in_pouch('kitten')\n",
    "print(m.pouch_contents())             # Output the contents of the pouch\n",
    "\n",
    "k = Kangaroo(0, 0)                   # Create a Kangaroo object at coordinates (0,0)\n",
    "print(k)                             # Output the string representation of the Kangaroo object\n",
    "k.put_in_pouch('doll')            \n",
    "k.put_in_pouch('firetruck')\n",
    "k.put_in_pouch('kitten')\n",
    "print(k.pouch_contents())          # Output the contents of the Kangaroo's pouch\n",
    "k.jump(1, 0)                       # Move the kangaroo by 1 unit along the x-axis\n",
    "k.jump(1, 0)                       # Move the kangaroo by 1 unit along the x-axis\n",
    "k.jump(1, 0)                       # Move the kangaroo by 1 unit along the x-axis\n",
    "print(k)          # Output the updated string representation of the Kangaroo object\n"
   ]
  },
  {
   "cell_type": "markdown",
   "id": "2ef1350b",
   "metadata": {},
   "source": [
    "Question 4\n",
    "Write function collatz() that takes a positive integer x as input and prints the Collatz sequence starting at x. A Collatz sequence is obtained by repeatedly applying this rule to the previous number x in the sequence:\n",
    "x={ 𝑥/2 𝑖𝑓𝑥𝑖𝑠𝑒𝑣𝑒𝑛3𝑥 +1 𝑖𝑓𝑥𝑖𝑠𝑜𝑑𝑑\n",
    "Your function should stop when the sequence gets to number 1. Your implementation must be recursive, without any loops."
   ]
  },
  {
   "cell_type": "code",
   "execution_count": 94,
   "id": "b9e609fd",
   "metadata": {},
   "outputs": [],
   "source": [
    "def collatz(x):   \n",
    "    print(x)      # Print the current number in the Collatz sequence\n",
    "    \n",
    "    # Base case: Stop when the sequence reaches 1\n",
    "    if x == 1:\n",
    "        return    \n",
    "    \n",
    "    # Recursive case: Apply the Collatz rule based on the current number x\n",
    "    if x % 2 == 0:\n",
    "        collatz(x // 2)       #Call the function recursively with x divided by 2\n",
    "    else:\n",
    "        collatz(3 * x + 1)    # Call the function recursively with 3x + 1"
   ]
  },
  {
   "cell_type": "code",
   "execution_count": 95,
   "id": "203f243a",
   "metadata": {},
   "outputs": [
    {
     "name": "stdout",
     "output_type": "stream",
     "text": [
      "1\n"
     ]
    }
   ],
   "source": [
    "collatz(1)"
   ]
  },
  {
   "cell_type": "code",
   "execution_count": 96,
   "id": "36c07aa3",
   "metadata": {},
   "outputs": [
    {
     "name": "stdout",
     "output_type": "stream",
     "text": [
      "10\n",
      "5\n",
      "16\n",
      "8\n",
      "4\n",
      "2\n",
      "1\n"
     ]
    }
   ],
   "source": [
    "collatz(10)"
   ]
  },
  {
   "cell_type": "markdown",
   "id": "4284d0da",
   "metadata": {},
   "source": [
    "Question 5\n",
    "Write a recursive method binary() that takes a non-negative integer n and prints the binary representation of integer n."
   ]
  },
  {
   "cell_type": "code",
   "execution_count": 97,
   "id": "d362ddf5",
   "metadata": {},
   "outputs": [],
   "source": [
    "def binary(n):\n",
    "    if n == 0:\n",
    "        print(0, end='')      # Base case: Print 0 if n is 0\n",
    "    elif n == 1:              \n",
    "        print(1, end='')     # Base case: Print 1 if n is 1\n",
    "    else:\n",
    "        binary(n // 2)  # Recursively call binary() with n divided by 2\n",
    "        print(n % 2, end='')  # Print the remainder (LSB) of n divided by 2\n"
   ]
  },
  {
   "cell_type": "code",
   "execution_count": 98,
   "id": "65416b81",
   "metadata": {},
   "outputs": [
    {
     "name": "stdout",
     "output_type": "stream",
     "text": [
      "0"
     ]
    }
   ],
   "source": [
    "binary(0)\n"
   ]
  },
  {
   "cell_type": "code",
   "execution_count": 99,
   "id": "bd23a79a",
   "metadata": {},
   "outputs": [
    {
     "name": "stdout",
     "output_type": "stream",
     "text": [
      "1"
     ]
    }
   ],
   "source": [
    "binary(1)"
   ]
  },
  {
   "cell_type": "code",
   "execution_count": 100,
   "id": "c583f356",
   "metadata": {},
   "outputs": [
    {
     "name": "stdout",
     "output_type": "stream",
     "text": [
      "11"
     ]
    }
   ],
   "source": [
    "binary(3)"
   ]
  },
  {
   "cell_type": "code",
   "execution_count": 101,
   "id": "8a8fcff2",
   "metadata": {},
   "outputs": [
    {
     "name": "stdout",
     "output_type": "stream",
     "text": [
      "1001"
     ]
    }
   ],
   "source": [
    "binary(9)"
   ]
  },
  {
   "cell_type": "markdown",
   "id": "83af7c93",
   "metadata": {},
   "source": [
    "Question 6\n",
    "Implement a class named HeadingParser that can be used to parse an HTML document, and retrieve and print all the headings in the document. You should implement your class as a subclass of HTMLParser, defined in Standard Library module html.parser. When fed a string containing HTML code, your class should print the headings, one per line and in the order in which they appear in the document. Each heading should be indented as follows: an h1 heading should have indentation 0, and h2 heading should have indentation 1, etc. Test your implementation using w3c.html."
   ]
  },
  {
   "cell_type": "code",
   "execution_count": 102,
   "id": "4411e8fb",
   "metadata": {},
   "outputs": [],
   "source": [
    "from html.parser import HTMLParser\n",
    "class HeadingParser(HTMLParser):   # Define the class With name HeadingParser\n",
    "    def __init__(self):        # Define a function with name _init_\n",
    "        super().__init__()\n",
    "        self.headings = []  \n",
    "        self.indentation = 0  \n",
    "\n",
    " \n",
    "\n",
    "    def handle_starttag(self, tag, attrs):  # The handle_starttag() function is called when a start tag is discovered in an HTML page. If the tag (such as h1, h2, etc.) contains a heading, the indentation level and the flag inside_heading are both set to True.\n",
    "        if tag.startswith('h'): \n",
    "            try:\n",
    "                self.indentation = int(tag[1:]) - 1 \n",
    "            except ValueError:\n",
    "                self.indentation = -1  \n",
    "\n",
    " \n",
    "\n",
    "    def handle_data(self, data):  # The handle_data() function is called when text (data) is discovered in between HTML elements. If inside_heading is set to True, the data (heading) is displayed with the appropriate indentation.\n",
    "        if self.indentation >= 0:  \n",
    "            self.headings.append('  ' * self.indentation + data.strip())  \n",
    "\n",
    " \n",
    "\n",
    "    def print_headings(self):   \n",
    "        for heading in self.headings:\n",
    "            print(heading)"
   ]
  },
  {
   "cell_type": "code",
   "execution_count": 103,
   "id": "58b0b8be",
   "metadata": {},
   "outputs": [
    {
     "name": "stdout",
     "output_type": "stream",
     "text": [
      "\n",
      "W3C Mission\n",
      "\n",
      "  Principles\n",
      "  \n",
      "  \n"
     ]
    }
   ],
   "source": [
    "infile = open('w3c.txt')\n",
    "content = infile.read()\n",
    "infile.close()\n",
    "hp = HeadingParser()\n",
    "hp.feed(content)\n",
    "hp.print_headings()"
   ]
  },
  {
   "cell_type": "markdown",
   "id": "e62c79c1",
   "metadata": {},
   "source": [
    "Question 7\n",
    "Implement recursive function webdir() that takes as input: a URL (as a string) and non-negative integers dept h and i ndent . Your function should visit every web page reachable from the starting URL web page in depth clicks or less, and print each web page's URL. As shown below, indentation, specified by indent, should be used to indicate the depth of a URL."
   ]
  },
  {
   "cell_type": "code",
   "execution_count": 104,
   "id": "bce4288b",
   "metadata": {},
   "outputs": [],
   "source": [
    "\n",
    "class LinkParser(HTMLParser):\n",
    "    def __init__(self):\n",
    "        super().__init__()\n",
    "        self.links = []\n",
    "\n",
    "    def handle_starttag(self, tag, attrs):\n",
    "        if tag == 'a':\n",
    "            for attr in attrs:\n",
    "                if attr[0] == 'href':\n",
    "                    self.links.append(attr[1])\n",
    " \n",
    "def webdir(url, depth, indent):\n",
    "    if depth < 0:\n",
    "        return\n",
    "\n",
    "    response = urlopen(url)\n",
    "    html = response.read().decode('utf-8')\n",
    "\n",
    "    parser = LinkParser()\n",
    "    parser.feed(html)\n",
    "    links = parser.links\n",
    "\n",
    "    print(' ' * indent + url)\n",
    "    \n",
    "    for link in links:\n",
    "        absolute_url = urljoin(url, link)\n",
    "        webdir(absolute_url, depth - 1, indent + 4)"
   ]
  },
  {
   "cell_type": "code",
   "execution_count": 105,
   "id": "99549a6a",
   "metadata": {},
   "outputs": [
    {
     "name": "stdout",
     "output_type": "stream",
     "text": [
      "https://reed.cs.depaul.edu/lperkovic/csc242/homeworks/Homework4.html\n",
      "    https://reed.cs.depaul.edu/lperkovic/csc242/homeworks/homework4.py\n",
      "    https://reed.cs.depaul.edu/lperkovic/csc242/homeworks/increment.py\n",
      "    https://reed.cs.depaul.edu/lperkovic/csc242/homeworks/bmi.py\n",
      "    https://d2l.depaul.edu/\n",
      "    https://reed.cs.depaul.edu/lperkovic/csc242/homeworks/increment.py\n",
      "    https://reed.cs.depaul.edu/lperkovic/csc242/homeworks/bmi.py\n"
     ]
    }
   ],
   "source": [
    "webdir('https://reed.cs.depaul.edu/lperkovic/csc242/homeworks/Homework4.html', 2, 0)"
   ]
  },
  {
   "cell_type": "markdown",
   "id": "a6f691c4",
   "metadata": {},
   "source": [
    "Question 8\n",
    "Write SQL queries on the below database table that return:"
   ]
  },
  {
   "cell_type": "markdown",
   "id": "4332a48f",
   "metadata": {},
   "source": [
    "\n",
    "\n",
    "a) All the temperature data.\n",
    "```sql\n",
    "SELECT Temperature\n",
    "FROM Weather;\n",
    "```\n",
    "\n",
    "b) All the cities, but without repetition.\n",
    "```sql\n",
    "SELECT DISTINCT City\n",
    "FROM Weather;\n",
    "```\n",
    "\n",
    "c) All the records for India.\n",
    "```sql\n",
    "SELECT *\n",
    "FROM Weather\n",
    "WHERE Country = 'India';\n",
    "```\n",
    "\n",
    "d) All the Fall records.\n",
    "```sql\n",
    "SELECT *\n",
    "FROM Weather\n",
    "WHERE Season = 'Fall';\n",
    "```\n",
    "\n",
    "e) The city, country, and season for which the average rainfall is between 200 and 400 millimeters.\n",
    "```sql\n",
    "SELECT City, Country, Season\n",
    "FROM Weather\n",
    "GROUP BY City, Country, Season\n",
    "HAVING AVG(Rainfall) BETWEEN 200 AND 400;\n",
    "```\n",
    "\n",
    "f) The city and country for which the average Fall temperature is above 20 degrees, in increasing temperature order.\n",
    "```sql\n",
    "SELECT City, Country\n",
    "FROM Weather\n",
    "WHERE Season = 'Fall'\n",
    "GROUP BY City, Country\n",
    "HAVING AVG(Temperature) > 20\n",
    "ORDER BY AVG(Temperature) ASC;\n",
    "```\n",
    "\n",
    "g) The total annual rainfall for Cairo.\n",
    "```sql\n",
    "SELECT SUM(Rainfall) AS Total_Rainfall\n",
    "FROM Weather\n",
    "WHERE City = 'Cairo';\n",
    "```\n",
    "\n",
    "h) The total rainfall for each season.\n",
    "```sql\n",
    "SELECT Season, SUM(Rainfall) AS Total_Rainfall\n",
    "FROM Weather\n",
    "GROUP BY Season;\n",
    "```\n",
    "\n"
   ]
  },
  {
   "cell_type": "markdown",
   "id": "22abb2fc",
   "metadata": {},
   "source": [
    "Question 9\n",
    " Suppose list words is defined as follows:words = ['The', 'quick', 'brown', 'fox', 'jumps', 'over', 'the', 'lazy', 'dog']\n",
    " Write list comprehension    expressions that use list words and generate the following lists:"
   ]
  },
  {
   "cell_type": "code",
   "execution_count": 106,
   "id": "9d9c89a2",
   "metadata": {},
   "outputs": [
    {
     "name": "stdout",
     "output_type": "stream",
     "text": [
      "List a: ['THE', 'QUICK', 'BROWN', 'FOX', 'JUMPS', 'OVER', 'THE', 'LAZY', 'DOG']\n",
      "List b: ['THE', 'quick', 'brown', 'FOX', 'jumps', 'OVER', 'THE', 'LAZY', 'DOG']\n",
      "List c: [3, 5, 5, 3, 5, 4, 3, 4, 3]\n",
      "List d: [['THE', 'the', 3], ['QUICK', 'quick', 5], ['BROWN', 'brown', 5], ['FOX', 'fox', 3], ['JUMPS', 'jumps', 5], ['OVER', 'over', 4], ['THE', 'the', 3], ['LAZY', 'lazy', 4], ['DOG', 'dog', 3]]\n",
      "List e: ['quick', 'brown', 'jumps', 'over', 'lazy']\n"
     ]
    }
   ],
   "source": [
    "words = ['The', 'quick', 'brown', 'fox', 'jumps', 'over', 'the', 'lazy', 'dog']\n",
    "\n",
    "# a) ['THE', 'QUICK', 'BROWN', 'FOX', 'JUMPS', 'OVER', 'THE']\n",
    "list_a = [word.upper() for word in words]\n",
    "\n",
    "# b) ['the', 'quick', 'brown', 'fox', 'jumps', 'over', 'the', 'LAZY', 'DOG', 'lazy', 'dog']\n",
    "list_b = [word.lower() if len(word) > 4 else word.upper() for word in words]\n",
    "\n",
    "# c) [3, 5, 5, 3, 5, 4, 3, 4, 3]\n",
    "list_c = [len(word) for word in words]\n",
    "\n",
    "# d) [['THE', 'the', 3], ['QUICK', 'quick', 5], ['BROWN', 'brown', 5], ['FOX', 'fox', 3], ['JUMPS', 'jumps', 5],\n",
    "#     ['OVER', 'over', 4], ['THE', 'the', 3], ['LAZY', 'lazy', 4], ['DOG', 'dog', 3]]\n",
    "list_d = [[word.upper(), word.lower(), len(word)] for word in words]\n",
    "\n",
    "# e) ['The', 'quick', 'brown', 'fox', 'jumps', 'over', 'the', 'lazy', 'dog']\n",
    "list_e = [word for word in words if len(word) >= 4]\n",
    "\n",
    "# Print the generated lists\n",
    "print(\"List a:\", list_a)\n",
    "print(\"List b:\", list_b)\n",
    "print(\"List c:\", list_c)\n",
    "print(\"List d:\", list_d)\n",
    "print(\"List e:\", list_e)\n"
   ]
  }
 ],
 "metadata": {
  "kernelspec": {
   "display_name": "Python 3 (ipykernel)",
   "language": "python",
   "name": "python3"
  },
  "language_info": {
   "codemirror_mode": {
    "name": "ipython",
    "version": 3
   },
   "file_extension": ".py",
   "mimetype": "text/x-python",
   "name": "python",
   "nbconvert_exporter": "python",
   "pygments_lexer": "ipython3",
   "version": "3.10.9"
  }
 },
 "nbformat": 4,
 "nbformat_minor": 5
}
